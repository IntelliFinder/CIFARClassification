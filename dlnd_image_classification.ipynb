{
 "cells": [
  {
   "cell_type": "markdown",
   "metadata": {
    "collapsed": true,
    "deletable": true,
    "editable": true
   },
   "source": [
    "# Image Classification\n",
    "In this project, you'll classify images from the [CIFAR-10 dataset](https://www.cs.toronto.edu/~kriz/cifar.html).  The dataset consists of airplanes, dogs, cats, and other objects. You'll preprocess the images, then train a convolutional neural network on all the samples. The images need to be normalized and the labels need to be one-hot encoded.  You'll get to apply what you learned and build a convolutional, max pooling, dropout, and fully connected layers.  At the end, you'll get to see your neural network's predictions on the sample images.\n",
    "## Get the Data\n",
    "Run the following cell to download the [CIFAR-10 dataset for python](https://www.cs.toronto.edu/~kriz/cifar-10-python.tar.gz)."
   ]
  },
  {
   "cell_type": "code",
   "execution_count": 1,
   "metadata": {
    "collapsed": false,
    "deletable": true,
    "editable": true
   },
   "outputs": [
    {
     "name": "stderr",
     "output_type": "stream",
     "text": [
      "CIFAR-10 Dataset: 171MB [00:14, 11.4MB/s]                              \n"
     ]
    },
    {
     "name": "stdout",
     "output_type": "stream",
     "text": [
      "All files found!\n"
     ]
    }
   ],
   "source": [
    "\"\"\"\n",
    "DON'T MODIFY ANYTHING IN THIS CELL THAT IS BELOW THIS LINE\n",
    "\"\"\"\n",
    "from urllib.request import urlretrieve\n",
    "from os.path import isfile, isdir\n",
    "from tqdm import tqdm\n",
    "import problem_unittests as tests\n",
    "import tarfile\n",
    "\n",
    "cifar10_dataset_folder_path = 'cifar-10-batches-py'\n",
    "\n",
    "# Use Floyd's cifar-10 dataset if present\n",
    "floyd_cifar10_location = '/input/cifar-10/python.tar.gz'\n",
    "if isfile(floyd_cifar10_location):\n",
    "    tar_gz_path = floyd_cifar10_location\n",
    "else:\n",
    "    tar_gz_path = 'cifar-10-python.tar.gz'\n",
    "\n",
    "class DLProgress(tqdm):\n",
    "    last_block = 0\n",
    "\n",
    "    def hook(self, block_num=1, block_size=1, total_size=None):\n",
    "        self.total = total_size\n",
    "        self.update((block_num - self.last_block) * block_size)\n",
    "        self.last_block = block_num\n",
    "\n",
    "if not isfile(tar_gz_path):\n",
    "    with DLProgress(unit='B', unit_scale=True, miniters=1, desc='CIFAR-10 Dataset') as pbar:\n",
    "        urlretrieve(\n",
    "            'https://www.cs.toronto.edu/~kriz/cifar-10-python.tar.gz',\n",
    "            tar_gz_path,\n",
    "            pbar.hook)\n",
    "\n",
    "if not isdir(cifar10_dataset_folder_path):\n",
    "    with tarfile.open(tar_gz_path) as tar:\n",
    "        tar.extractall()\n",
    "        tar.close()\n",
    "\n",
    "\n",
    "tests.test_folder_path(cifar10_dataset_folder_path)"
   ]
  },
  {
   "cell_type": "markdown",
   "metadata": {
    "deletable": true,
    "editable": true
   },
   "source": [
    "## Explore the Data\n",
    "The dataset is broken into batches to prevent your machine from running out of memory.  The CIFAR-10 dataset consists of 5 batches, named `data_batch_1`, `data_batch_2`, etc.. Each batch contains the labels and images that are one of the following:\n",
    "* airplane\n",
    "* automobile\n",
    "* bird\n",
    "* cat\n",
    "* deer\n",
    "* dog\n",
    "* frog\n",
    "* horse\n",
    "* ship\n",
    "* truck\n",
    "\n",
    "Understanding a dataset is part of making predictions on the data.  Play around with the code cell below by changing the `batch_id` and `sample_id`. The `batch_id` is the id for a batch (1-5). The `sample_id` is the id for a image and label pair in the batch.\n",
    "\n",
    "Ask yourself \"What are all possible labels?\", \"What is the range of values for the image data?\", \"Are the labels in order or random?\".  Answers to questions like these will help you preprocess the data and end up with better predictions."
   ]
  },
  {
   "cell_type": "code",
   "execution_count": 2,
   "metadata": {
    "collapsed": false,
    "deletable": true,
    "editable": true
   },
   "outputs": [
    {
     "name": "stdout",
     "output_type": "stream",
     "text": [
      "\n",
      "Stats of batch 3:\n",
      "Samples: 10000\n",
      "Label Counts: {0: 994, 1: 1042, 2: 965, 3: 997, 4: 990, 5: 1029, 6: 978, 7: 1015, 8: 961, 9: 1029}\n",
      "First 20 Labels: [8, 5, 0, 6, 9, 2, 8, 3, 6, 2, 7, 4, 6, 9, 0, 0, 7, 3, 7, 2]\n",
      "\n",
      "Example of Image 1643:\n",
      "Image - Min Value: 0 Max Value: 244\n",
      "Image - Shape: (32, 32, 3)\n",
      "Label - Label Id: 2 Name: bird\n"
     ]
    },
    {
     "data": {
      "image/png": "[encoded data removed]",
      "text/plain": [
       "<matplotlib.figure.Figure at 0x7fad2068c860>"
      ]
     },
     "metadata": {
      "image/png": {
       "height": 250,
       "width": 253
      }
     },
     "output_type": "display_data"
    }
   ],
   "source": [
    "%matplotlib inline\n",
    "%config InlineBackend.figure_format = 'retina'\n",
    "\n",
    "import helper\n",
    "import numpy as np\n",
    "\n",
    "# Explore the dataset\n",
    "batch_id = 3\n",
    "sample_id = 1643\n",
    "helper.display_stats(cifar10_dataset_folder_path, batch_id, sample_id)"
   ]
  },
  {
   "cell_type": "markdown",
   "metadata": {
    "deletable": true,
    "editable": true
   },
   "source": [
    "## Implement Preprocess Functions\n",
    "### Normalize\n",
    "In the cell below, implement the `normalize` function to take in image data, `x`, and return it as a normalized Numpy array. The values should be in the range of 0 to 1, inclusive.  The return object should be the same shape as `x`."
   ]
  },
  {
   "cell_type": "code",
   "execution_count": 3,
   "metadata": {
    "collapsed": false,
    "deletable": true,
    "editable": true
   },
   "outputs": [
    {
     "name": "stdout",
     "output_type": "stream",
     "text": [
      "Tests Passed\n"
     ]
    }
   ],
   "source": [
    "def normalize(x):\n",
    "    \"\"\"\n",
    "    Normalize a list of sample image data in the range of 0 to 1\n",
    "    : x: List of image data.  The image shape is (32, 32, 3)\n",
    "    : return: Numpy array of normalize data\n",
    "    \"\"\"\n",
    "\n",
    "    return ((x/255))#((x/255)-0.5)^0.00144342 this creates a range of -1<x<1 which is better normalization then\n",
    "   \n",
    "    #######################\n",
    "    ###Taken  from  LSTM###\n",
    "    #######################\n",
    "    #norm = tf.sqrt(tf.reduce_sum(tf.square(x), 1, keep_dims=True))\n",
    "    #normalized_embedding = x / norm\n",
    "\n",
    "\"\"\"\n",
    "DON'T MODIFY ANYTHING IN THIS CELL THAT IS BELOW THIS LINE\n",
    "\"\"\"\n",
    "tests.test_normalize(normalize)"
   ]
  },
  {
   "cell_type": "markdown",
   "metadata": {
    "deletable": true,
    "editable": true
   },
   "source": [
    "### One-hot encode\n",
    "Just like the previous code cell, you'll be implementing a function for preprocessing.  This time, you'll implement the `one_hot_encode` function. The input, `x`, are a list of labels.  Implement the function to return the list of labels as One-Hot encoded Numpy array.  The possible values for labels are 0 to 9. The one-hot encoding function should return the same encoding for each value between each call to `one_hot_encode`.  Make sure to save the map of encodings outside the function.\n",
    "\n",
    "Hint: Don't reinvent the wheel."
   ]
  },
  {
   "cell_type": "code",
   "execution_count": 4,
   "metadata": {
    "collapsed": false,
    "deletable": true,
    "editable": true
   },
   "outputs": [
    {
     "name": "stdout",
     "output_type": "stream",
     "text": [
      "Tests Passed\n",
      "Tested throughly\n"
     ]
    }
   ],
   "source": [
    "def one_hot_encode(x):\n",
    "    return np.eye(10)[x]\n",
    "\n",
    "\"\"\"\n",
    "DON'T MODIFY ANYTHING IN THIS CELL THAT IS BELOW THIS LINE\n",
    "\"\"\"\n",
    "tests.test_one_hot_encode(one_hot_encode)\n",
    "print (\"Tested throughly\")"
   ]
  },
  {
   "cell_type": "markdown",
   "metadata": {
    "deletable": true,
    "editable": true
   },
   "source": [
    "### Randomize Data\n",
    "As you saw from exploring the data above, the order of the samples are randomized.  It doesn't hurt to randomize it again, but you don't need to for this dataset."
   ]
  },
  {
   "cell_type": "markdown",
   "metadata": {
    "deletable": true,
    "editable": true
   },
   "source": [
    "## Preprocess all the data and save it\n",
    "Running the code cell below will preprocess all the CIFAR-10 data and save it to file. The code below also uses 10% of the training data for validation."
   ]
  },
  {
   "cell_type": "code",
   "execution_count": 5,
   "metadata": {
    "collapsed": false,
    "deletable": true,
    "editable": true
   },
   "outputs": [],
   "source": [
    "\"\"\"\n",
    "DON'T MODIFY ANYTHING IN THIS CELL\n",
    "\"\"\"\n",
    "# Preprocess Training, Validation, and Testing Data\n",
    "helper.preprocess_and_save_data(cifar10_dataset_folder_path, normalize, one_hot_encode)"
   ]
  },
  {
   "cell_type": "markdown",
   "metadata": {
    "deletable": true,
    "editable": true
   },
   "source": [
    "# Check Point\n",
    "This is your first checkpoint.  If you ever decide to come back to this notebook or have to restart the notebook, you can start from here.  The preprocessed data has been saved to disk."
   ]
  },
  {
   "cell_type": "code",
   "execution_count": 6,
   "metadata": {
    "collapsed": true,
    "deletable": true,
    "editable": true
   },
   "outputs": [],
   "source": [
    "\"\"\"\n",
    "DON'T MODIFY ANYTHING IN THIS CELL\n",
    "\"\"\"\n",
    "import pickle\n",
    "import problem_unittests as tests\n",
    "import helper\n",
    "\n",
    "# Load the Preprocessed Validation data\n",
    "valid_features, valid_labels = pickle.load(open('preprocess_validation.p', mode='rb'))"
   ]
  },
  {
   "cell_type": "markdown",
   "metadata": {
    "deletable": true,
    "editable": true
   },
   "source": [
    "## Build the network\n",
    "For the neural network, you'll build each layer into a function.  Most of the code you've seen has been outside of functions. To test your code more thoroughly, we require that you put each layer in a function.  This allows us to give you better feedback and test for simple mistakes using our unittests before you submit your project.\n",
    "\n",
    ">**Note:** If you're finding it hard to dedicate enough time for this course each week, we've provided a small shortcut to this part of the project. In the next couple of problems, you'll have the option to use classes from the [TensorFlow Layers](https://www.tensorflow.org/api_docs/python/tf/layers) or [TensorFlow Layers (contrib)](https://www.tensorflow.org/api_guides/python/contrib.layers) packages to build each layer, except the layers you build in the \"Convolutional and Max Pooling Layer\" section.  TF Layers is similar to Keras's and TFLearn's abstraction to layers, so it's easy to pickup.\n",
    "\n",
    ">However, if you would like to get the most out of this course, try to solve all the problems _without_ using anything from the TF Layers packages. You **can** still use classes from other packages that happen to have the same name as ones you find in TF Layers! For example, instead of using the TF Layers version of the `conv2d` class, [tf.layers.conv2d](https://www.tensorflow.org/api_docs/python/tf/layers/conv2d), you would want to use the TF Neural Network version of `conv2d`, [tf.nn.conv2d](https://www.tensorflow.org/api_docs/python/tf/nn/conv2d). \n",
    "\n",
    "Let's begin!\n",
    "\n",
    "### Input\n",
    "The neural network needs to read the image data, one-hot encoded labels, and dropout keep probability. Implement the following functions\n",
    "* Implement `neural_net_image_input`\n",
    " * Return a [TF Placeholder](https://www.tensorflow.org/api_docs/python/tf/placeholder)\n",
    " * Set the shape using `image_shape` with batch size set to `None`.\n",
    " * Name the TensorFlow placeholder \"x\" using the TensorFlow `name` parameter in the [TF Placeholder](https://www.tensorflow.org/api_docs/python/tf/placeholder).\n",
    "* Implement `neural_net_label_input`\n",
    " * Return a [TF Placeholder](https://www.tensorflow.org/api_docs/python/tf/placeholder)\n",
    " * Set the shape using `n_classes` with batch size set to `None`.\n",
    " * Name the TensorFlow placeholder \"y\" using the TensorFlow `name` parameter in the [TF Placeholder](https://www.tensorflow.org/api_docs/python/tf/placeholder).\n",
    "* Implement `neural_net_keep_prob_input`\n",
    " * Return a [TF Placeholder](https://www.tensorflow.org/api_docs/python/tf/placeholder) for dropout keep probability.\n",
    " * Name the TensorFlow placeholder \"keep_prob\" using the TensorFlow `name` parameter in the [TF Placeholder](https://www.tensorflow.org/api_docs/python/tf/placeholder).\n",
    "\n",
    "These names will be used at the end of the project to load your saved model.\n",
    "\n",
    "Note: `None` for shapes in TensorFlow allow for a dynamic size."
   ]
  },
  {
   "cell_type": "code",
   "execution_count": 7,
   "metadata": {
    "collapsed": false,
    "deletable": true,
    "editable": true
   },
   "outputs": [
    {
     "name": "stdout",
     "output_type": "stream",
     "text": [
      "Image Input Tests Passed.\n",
      "Label Input Tests Passed.\n",
      "Keep Prob Tests Passed.\n"
     ]
    }
   ],
   "source": [
    "import tensorflow as tf\n",
    "\n",
    "def neural_net_image_input(image_shape):\n",
    "    \"\"\"\n",
    "    Return a Tensor for a batch of image input\n",
    "    : image_shape: Shape of the images\n",
    "    : return: Tensor for image input.\n",
    "    \"\"\"\n",
    "    # TODO: Implement Function\n",
    "    return tf.placeholder(tf.float32, [None, image_shape[0], image_shape[1],image_shape[2]], name='x')\n",
    "\n",
    "\n",
    "def neural_net_label_input(n_classes):\n",
    "    \"\"\"\n",
    "    Return a Tensor for a batch of label input\n",
    "    : n_classes: Number of classes\n",
    "    : return: Tensor for label input.\n",
    "    \"\"\"\n",
    "    # TODO: Implement Function\n",
    "    return tf.placeholder(tf.float32,[None, n_classes], name='y')\n",
    "\n",
    "\n",
    "def neural_net_keep_prob_input():\n",
    "    \"\"\"\n",
    "    Return a Tensor for keep probability\n",
    "    : return: Tensor for keep probability.\n",
    "    \"\"\"\n",
    "    # TODO: Implement Function\n",
    "    return tf.placeholder(tf.float32,  name='keep_prob')\n",
    "\n",
    "\n",
    "\"\"\"\n",
    "DON'T MODIFY ANYTHING IN THIS CELL THAT IS BELOW THIS LINE\n",
    "\"\"\"\n",
    "tf.reset_default_graph()\n",
    "tests.test_nn_image_inputs(neural_net_image_input)\n",
    "tests.test_nn_label_inputs(neural_net_label_input)\n",
    "tests.test_nn_keep_prob_inputs(neural_net_keep_prob_input)"
   ]
  },
  {
   "cell_type": "markdown",
   "metadata": {
    "deletable": true,
    "editable": true
   },
   "source": [
    "### Convolution and Max Pooling Layer\n",
    "Convolution layers have a lot of success with images. For this code cell, you should implement the function `conv2d_maxpool` to apply convolution then max pooling:\n",
    "* Create the weight and bias using `conv_ksize`, `conv_num_outputs` and the shape of `x_tensor`.\n",
    "* Apply a convolution to `x_tensor` using weight and `conv_strides`.\n",
    " * We recommend you use same padding, but you're welcome to use any padding.\n",
    "* Add bias\n",
    "* Add a nonlinear activation to the convolution.\n",
    "* Apply Max Pooling using `pool_ksize` and `pool_strides`.\n",
    " * We recommend you use same padding, but you're welcome to use any padding.\n",
    "\n",
    "**Note:** You **can't** use [TensorFlow Layers](https://www.tensorflow.org/api_docs/python/tf/layers) or [TensorFlow Layers (contrib)](https://www.tensorflow.org/api_guides/python/contrib.layers) for **this** layer, but you can still use TensorFlow's [Neural Network](https://www.tensorflow.org/api_docs/python/tf/nn) package. You may still use the shortcut option for all the **other** layers."
   ]
  },
  {
   "cell_type": "code",
   "execution_count": 8,
   "metadata": {
    "collapsed": false,
    "deletable": true,
    "editable": true
   },
   "outputs": [
    {
     "name": "stdout",
     "output_type": "stream",
     "text": [
      "Tests Passed\n"
     ]
    }
   ],
   "source": [
    "def conv2d_maxpool(x_tensor, conv_num_outputs, conv_ksize, conv_strides, pool_ksize, pool_strides):\n",
    "    \"\"\"\n",
    "    Apply convolution then max pooling to x_tensor\n",
    "    :param x_tensor: TensorFlow Tensor\n",
    "    :param conv_num_outputs: Number of outputs for the convolutional layer\n",
    "    :param conv_ksize: kernal size 2-D Tuple for the convolutional layer\n",
    "    :param conv_strides: Stride 2-D Tuple for convolution\n",
    "    :param pool_ksize: kernal size 2-D Tuple for pool\n",
    "    :param pool_strides: Stride 2-D Tuple for pool\n",
    "    : return: A tensor that represents convolution and max pooling of x_tensor\n",
    "    \"\"\"\n",
    "    # TODO: Implement Function\n",
    "    # Create two variables.\n",
    "    third=x_tensor.get_shape().as_list()[3]\n",
    "    \n",
    "    weights = tf.Variable(tf.truncated_normal([conv_ksize[0],conv_ksize[1], third, conv_num_outputs], stddev=0.01), name=\"weights\")\n",
    "    biases  = tf.Variable(tf.zeros([conv_num_outputs]), name=\"biases\")\n",
    "    #conv layer\n",
    "    x_tensor=tf.nn.conv2d(x_tensor, weights , [1,conv_strides[0],conv_strides[1],1], 'SAME')\n",
    "    x_tensor=tf.nn.bias_add(x_tensor, biases)\n",
    "    x_tensor=tf.nn.relu(x_tensor)\n",
    "    #max pool\n",
    "    x_tensor=tf.nn.max_pool(x_tensor, [1,pool_ksize[0],pool_ksize[1],1], [1, pool_strides[0], pool_strides[1],1],'SAME')\n",
    "\n",
    "    return x_tensor \n",
    "\n",
    "\n",
    "\"\"\"\n",
    "DON'T MODIFY ANYTHING IN THIS CELL THAT IS BELOW THIS LINE\n",
    "\"\"\"\n",
    "tests.test_con_pool(conv2d_maxpool)"
   ]
  },
  {
   "cell_type": "markdown",
   "metadata": {
    "deletable": true,
    "editable": true
   },
   "source": [
    "### Flatten Layer\n",
    "Implement the `flatten` function to change the dimension of `x_tensor` from a 4-D tensor to a 2-D tensor.  The output should be the shape (*Batch Size*, *Flattened Image Size*). Shortcut option: you can use classes from the [TensorFlow Layers](https://www.tensorflow.org/api_docs/python/tf/layers) or [TensorFlow Layers (contrib)](https://www.tensorflow.org/api_guides/python/contrib.layers) packages for this layer. For more of a challenge, only use other TensorFlow packages."
   ]
  },
  {
   "cell_type": "code",
   "execution_count": 9,
   "metadata": {
    "collapsed": false,
    "deletable": true,
    "editable": true
   },
   "outputs": [
    {
     "name": "stdout",
     "output_type": "stream",
     "text": [
      "Tests Passed\n"
     ]
    }
   ],
   "source": [
    "def flatten(x_tensor):\n",
    "    \"\"\"\n",
    "    Flatten x_tensor to (Batch Size, Flattened Image Size)\n",
    "    : x_tensor: A tensor of size (Batch Size, ...), where ... are the image dimensions.\n",
    "    : return: A tensor of size (Batch Size, Flattened Image Size).\n",
    "    \"\"\"\n",
    "    # TODO: Implement Function\n",
    "    flatten_image=x_tensor.get_shape().as_list()[1] * x_tensor.get_shape().as_list()[2] * x_tensor.get_shape().as_list()[3]\n",
    "    return tf.reshape(x_tensor, [-1, flatten_image])\n",
    "\n",
    "\n",
    "\"\"\"\n",
    "DON'T MODIFY ANYTHING IN THIS CELL THAT IS BELOW THIS LINE\n",
    "\"\"\"\n",
    "tests.test_flatten(flatten)"
   ]
  },
  {
   "cell_type": "markdown",
   "metadata": {
    "deletable": true,
    "editable": true
   },
   "source": [
    "### Fully-Connected Layer\n",
    "Implement the `fully_conn` function to apply a fully connected layer to `x_tensor` with the shape (*Batch Size*, *num_outputs*). Shortcut option: you can use classes from the [TensorFlow Layers](https://www.tensorflow.org/api_docs/python/tf/layers) or [TensorFlow Layers (contrib)](https://www.tensorflow.org/api_guides/python/contrib.layers) packages for this layer. For more of a challenge, only use other TensorFlow packages."
   ]
  },
  {
   "cell_type": "code",
   "execution_count": 10,
   "metadata": {
    "collapsed": false,
    "deletable": true,
    "editable": true
   },
   "outputs": [
    {
     "name": "stdout",
     "output_type": "stream",
     "text": [
      "Tests Passed\n"
     ]
    }
   ],
   "source": [
    "def fully_conn(x_tensor, num_outputs):\n",
    "    \"\"\"\n",
    "    Apply a fully connected layer to x_tensor using weight and bias\n",
    "    : x_tensor: A 2-D tensor where the first dimension is batch size.\n",
    "    : num_outputs: The number of output that the new tensor should be.\n",
    "    : return: A 2-D tensor where the second dimension is num_outputs.\n",
    "    \"\"\"\n",
    "    # TODO: Implement Function\n",
    "    weights = tf.Variable(tf.truncated_normal([x_tensor.get_shape().as_list()[1], num_outputs], stddev=0.01), name=\"weights\")\n",
    "    biases  = tf.Variable((tf.zeros([num_outputs])), name=\"biases\")    \n",
    "    tensor  = tf.add(tf.matmul(x_tensor, weights), biases)\n",
    "    tensor  = tf.nn.relu( tensor )\n",
    "    return tensor\n",
    "\n",
    "\n",
    "\"\"\"\n",
    "DON'T MODIFY ANYTHING IN THIS CELL THAT IS BELOW THIS LINE\n",
    "\"\"\"\n",
    "tests.test_fully_conn(fully_conn)\n"
   ]
  },
  {
   "cell_type": "markdown",
   "metadata": {
    "deletable": true,
    "editable": true
   },
   "source": [
    "### Output Layer\n",
    "Implement the `output` function to apply a fully connected layer to `x_tensor` with the shape (*Batch Size*, *num_outputs*). Shortcut option: you can use classes from the [TensorFlow Layers](https://www.tensorflow.org/api_docs/python/tf/layers) or [TensorFlow Layers (contrib)](https://www.tensorflow.org/api_guides/python/contrib.layers) packages for this layer. For more of a challenge, only use other TensorFlow packages.\n",
    "\n",
    "**Note:** Activation, softmax, or cross entropy should **not** be applied to this."
   ]
  },
  {
   "cell_type": "code",
   "execution_count": 11,
   "metadata": {
    "collapsed": false,
    "deletable": true,
    "editable": true
   },
   "outputs": [
    {
     "name": "stdout",
     "output_type": "stream",
     "text": [
      "Tests Passed\n"
     ]
    }
   ],
   "source": [
    "def output(x_tensor, num_outputs):\n",
    "    \"\"\"\n",
    "    Apply a output layer to x_tensor using weight and bias\n",
    "    : x_tensor: A 2-D tensor where the first dimension is batch size.\n",
    "    : num_outputs: The number of output that the new tensor should be.\n",
    "    : return: A 2-D tensor where the second dimension is num_outputs.\n",
    "    \"\"\"\n",
    "    # TODO: Implement Function\n",
    "    sec_dim = x_tensor.get_shape().as_list()[1]\n",
    "    weights = tf.Variable(tf.truncated_normal([sec_dim, num_outputs], stddev=0.01), name=\"outputweights\")\n",
    "    biases  = tf.Variable(tf.zeros([num_outputs]), name=\"outputbiases\")\n",
    "    return tf.add(tf.matmul(x_tensor, weights), biases)\n",
    "\n",
    "\n",
    "\"\"\"\n",
    "DON'T MODIFY ANYTHING IN THIS CELL THAT IS BELOW THIS LINE\n",
    "\"\"\"\n",
    "tests.test_output(output)"
   ]
  },
  {
   "cell_type": "markdown",
   "metadata": {
    "deletable": true,
    "editable": true
   },
   "source": [
    "### Create Convolutional Model\n",
    "Implement the function `conv_net` to create a convolutional neural network model. The function takes in a batch of images, `x`, and outputs logits.  Use the layers you created above to create this model:\n",
    "\n",
    "* Apply 1, 2, or 3 Convolution and Max Pool layers\n",
    "* Apply a Flatten Layer\n",
    "* Apply 1, 2, or 3 Fully Connected Layers\n",
    "* Apply an Output Layer\n",
    "* Return the output\n",
    "* Apply [TensorFlow's Dropout](https://www.tensorflow.org/api_docs/python/tf/nn/dropout) to one or more layers in the model using `keep_prob`. "
   ]
  },
  {
   "cell_type": "code",
   "execution_count": 15,
   "metadata": {
    "collapsed": false,
    "deletable": true,
    "editable": true
   },
   "outputs": [
    {
     "name": "stdout",
     "output_type": "stream",
     "text": [
      "Neural Network Built!\n"
     ]
    }
   ],
   "source": [
    "def conv_net(x, keep_prob):\n",
    "    \"\"\"\n",
    "    Create a convolutional neural network model\n",
    "    : x: Placeholder tensor that holds image data.\n",
    "    : keep_prob: Placeholder tensor that hold dropout keep probability.\n",
    "    : return: Tensor that represents logits\n",
    "    \"\"\"\n",
    "    # TODO: Apply 1, 2, or 3 Convolution and Max Pool layers\n",
    "    #    Play around with different number of outputs, kernel size and stride\n",
    "    # Function Definition from Above:\n",
    "    conv_num_outputs = 128\n",
    "    conv_ksize    = (5, 5)\n",
    "    conv_strides = (1, 1)\n",
    "    pool_ksize   = (3, 3)\n",
    "    pool_strides = (2, 2)\n",
    "    conv=conv2d_maxpool(x, conv_num_outputs, conv_ksize, conv_strides, pool_ksize, pool_strides)\n",
    "    conv=conv2d_maxpool(conv, conv_num_outputs, conv_ksize, conv_strides,pool_ksize, pool_strides)\n",
    "\n",
    "\n",
    "\n",
    "    # TODO: Apply a Flatten Layer\n",
    "    # Function Definition from Above:\n",
    "    flat=flatten(conv)\n",
    "    \n",
    "    # TODO: Apply 1, 2, or 3 Fully Connected Layers\n",
    "    #    Play around with different number of outputs\n",
    "    # Function Definition from Above:\n",
    "    num_outputs= 1024\n",
    "    fully_con=fully_conn(flat, num_outputs)\n",
    "    num_outputs= 512\n",
    "    fully_con=fully_conn(fully_con, num_outputs)\n",
    "    num_outputs= 75\n",
    "    fully_con=fully_conn(fully_con, num_outputs)    \n",
    "    # TODO: Apply dropout layer to fully connected layers\n",
    "    fully_con=tf.nn.dropout(fully_con, keep_prob)\n",
    "    \n",
    "    # TODO: Apply an Output Layer 00\n",
    "    #    Set this to the number of classes\n",
    "    # Function Definition from Above:\n",
    "    out_put=output(fully_con, 10)\n",
    "    \n",
    "    \n",
    "    # TODO: return output\n",
    "    return out_put\n",
    "\n",
    "\n",
    "\"\"\"\n",
    "DON'T MODIFY ANYTHING IN THIS CELL THAT IS BELOW THIS LINE\n",
    "\"\"\"\n",
    "\n",
    "##############################\n",
    "## Build the Neural Network ##\n",
    "##############################\n",
    "\n",
    "# Remove previous weights, bias, inputs, etc..\n",
    "tf.reset_default_graph()\n",
    "\n",
    "# Inputs\n",
    "x = neural_net_image_input((32, 32, 3))\n",
    "y = neural_net_label_input(10)\n",
    "keep_prob = neural_net_keep_prob_input()\n",
    "\n",
    "# Model\n",
    "logits = conv_net(x, keep_prob)\n",
    "\n",
    "# Name logits Tensor, so that is can be loaded from disk after training\n",
    "logits = tf.identity(logits, name='logits')\n",
    " \n",
    "# Loss and Optimizer\n",
    "cost = tf.reduce_mean(tf.nn.softmax_cross_entropy_with_logits(logits=logits, labels=y))\n",
    "optimizer = tf.train.AdamOptimizer(learning_rate=0.001).minimize(cost)\n",
    "\n",
    "# Accuracy\n",
    "correct_pred = tf.equal(tf.argmax(logits, 1), tf.argmax(y, 1))\n",
    "accuracy = tf.reduce_mean(tf.cast(correct_pred, tf.float32), name='accuracy')\n",
    "\n",
    "tests.test_conv_net(conv_net)"
   ]
  },
  {
   "cell_type": "markdown",
   "metadata": {
    "deletable": true,
    "editable": true
   },
   "source": [
    "## Train the Neural Network\n",
    "### Single Optimization\n",
    "Implement the function `train_neural_network` to do a single optimization.  The optimization should use `optimizer` to optimize in `session` with a `feed_dict` of the following:\n",
    "* `x` for image input\n",
    "* `y` for labels\n",
    "* `keep_prob` for keep probability for dropout\n",
    "\n",
    "This function will be called for each batch, so `tf.global_variables_initializer()` has already been called.\n",
    "\n",
    "Note: Nothing needs to be returned. This function is only optimizing the neural network."
   ]
  },
  {
   "cell_type": "code",
   "execution_count": 16,
   "metadata": {
    "collapsed": false,
    "deletable": true,
    "editable": true
   },
   "outputs": [
    {
     "name": "stdout",
     "output_type": "stream",
     "text": [
      "Tests Passed\n"
     ]
    }
   ],
   "source": [
    "def train_neural_network(session, optimizer, keep_probability, feature_batch, label_batch):\n",
    "    \"\"\"\n",
    "    Optimize the session on a batch of images and labels\n",
    "    : session: Current TensorFlow session\n",
    "    : optimizer: TensorFlow optimizer function\n",
    "    : keep_probability: keep probability\n",
    "    : feature_batch: Batch of Numpy image data\n",
    "    : label_batch: Batch of Numpy label data\n",
    "    \"\"\"\n",
    "    # TODO: Implement Function\n",
    "    \n",
    "    session.run(optimizer, feed_dict={x: feature_batch, y: label_batch, \\\n",
    "                                      keep_prob: keep_probability})\n",
    "\n",
    "\n",
    "\"\"\"\n",
    "DON'T MODIFY ANYTHING IN THIS CELL THAT IS BELOW THIS LINE\n",
    "\"\"\"\n",
    "tests.test_train_nn(train_neural_network)"
   ]
  },
  {
   "cell_type": "markdown",
   "metadata": {
    "deletable": true,
    "editable": true
   },
   "source": [
    "### Show Stats\n",
    "Implement the function `print_stats` to print loss and validation accuracy.  Use the global variables `valid_features` and `valid_labels` to calculate validation accuracy.  Use a keep probability of `1.0` to calculate the loss and validation accuracy."
   ]
  },
  {
   "cell_type": "code",
   "execution_count": 17,
   "metadata": {
    "collapsed": false,
    "deletable": true,
    "editable": true
   },
   "outputs": [],
   "source": [
    "def print_stats(session, feature_batch, label_batch, cost, accuracy):\n",
    "    \"\"\"\n",
    "    Print information about loss and validation accuracy\n",
    "    : session: Current TensorFlow session\n",
    "    : feature_batch: Batch of Numpy image data\n",
    "    : label_batch: Batch of Numpy label data\n",
    "    : cost: TensorFlow cost function\n",
    "    : accuracy: TensorFlow accuracy function\n",
    "    \"\"\"\n",
    "    # TODO: Implement Function\n",
    "    \n",
    "    cost     = session.run(cost, feed_dict={x: feature_batch, y:label_batch,\\\n",
    "                                                            keep_prob: 1.})\n",
    "    accuracy = session.run(accuracy, feed_dict={x: valid_features, y: valid_labels,\\\n",
    "                                                            keep_prob: 1.}) \n",
    "    print (\"Accuracy: {:.6f}, Cost: {:>10.4f}\".format(accuracy, cost))"
   ]
  },
  {
   "cell_type": "markdown",
   "metadata": {
    "deletable": true,
    "editable": true
   },
   "source": [
    "### Hyperparameters\n",
    "Tune the following parameters:\n",
    "* Set `epochs` to the number of iterations until the network stops learning or start overfitting\n",
    "* Set `batch_size` to the highest number that your machine has memory for.  Most people set them to common sizes of memory:\n",
    " * 64\n",
    " * 128\n",
    " * 256\n",
    " * ...\n",
    "* Set `keep_probability` to the probability of keeping a node using dropout"
   ]
  },
  {
   "cell_type": "code",
   "execution_count": 18,
   "metadata": {
    "collapsed": true,
    "deletable": true,
    "editable": true
   },
   "outputs": [],
   "source": [
    "# TODO: Tune Parameters\n",
    "epochs = 28\n",
    "batch_size = 64\n",
    "keep_probability = 0.7"
   ]
  },
  {
   "cell_type": "markdown",
   "metadata": {
    "deletable": true,
    "editable": true
   },
   "source": [
    "### Train on a Single CIFAR-10 Batch\n",
    "Instead of training the neural network on all the CIFAR-10 batches of data, let's use a single batch. This should save time while you iterate on the model to get a better accuracy.  Once the final validation accuracy is 50% or greater, run the model on all the data in the next section."
   ]
  },
  {
   "cell_type": "code",
   "execution_count": 19,
   "metadata": {
    "collapsed": false,
    "deletable": true,
    "editable": true
   },
   "outputs": [
    {
     "name": "stdout",
     "output_type": "stream",
     "text": [
      "Checking the Training on a Single Batch...\n",
      "Epoch  1, CIFAR-10 Batch 1:  Accuracy: 0.229400, Cost:     2.1477\n",
      "Epoch  2, CIFAR-10 Batch 1:  Accuracy: 0.268800, Cost:     1.9719\n",
      "Epoch  3, CIFAR-10 Batch 1:  Accuracy: 0.294200, Cost:     1.9812\n",
      "Epoch  4, CIFAR-10 Batch 1:  Accuracy: 0.372600, Cost:     1.7747\n",
      "Epoch  5, CIFAR-10 Batch 1:  Accuracy: 0.410000, Cost:     1.8415\n",
      "Epoch  6, CIFAR-10 Batch 1:  Accuracy: 0.457000, Cost:     1.7422\n",
      "Epoch  7, CIFAR-10 Batch 1:  Accuracy: 0.452000, Cost:     1.5194\n",
      "Epoch  8, CIFAR-10 Batch 1:  Accuracy: 0.495000, Cost:     1.3752\n",
      "Epoch  9, CIFAR-10 Batch 1:  Accuracy: 0.508400, Cost:     1.2835\n",
      "Epoch 10, CIFAR-10 Batch 1:  Accuracy: 0.521200, Cost:     1.1299\n",
      "Epoch 11, CIFAR-10 Batch 1:  Accuracy: 0.532000, Cost:     0.9619\n",
      "Epoch 12, CIFAR-10 Batch 1:  Accuracy: 0.524200, Cost:     0.8420\n",
      "Epoch 13, CIFAR-10 Batch 1:  Accuracy: 0.527600, Cost:     0.7927\n",
      "Epoch 14, CIFAR-10 Batch 1:  Accuracy: 0.531200, Cost:     0.6979\n",
      "Epoch 15, CIFAR-10 Batch 1:  Accuracy: 0.527000, Cost:     0.6409\n",
      "Epoch 16, CIFAR-10 Batch 1:  Accuracy: 0.533800, Cost:     0.5490\n",
      "Epoch 17, CIFAR-10 Batch 1:  Accuracy: 0.516600, Cost:     0.4513\n",
      "Epoch 18, CIFAR-10 Batch 1:  Accuracy: 0.516800, Cost:     0.3884\n",
      "Epoch 19, CIFAR-10 Batch 1:  Accuracy: 0.531200, Cost:     0.3084\n",
      "Epoch 20, CIFAR-10 Batch 1:  Accuracy: 0.529400, Cost:     0.2148\n",
      "Epoch 21, CIFAR-10 Batch 1:  Accuracy: 0.540600, Cost:     0.1858\n",
      "Epoch 22, CIFAR-10 Batch 1:  Accuracy: 0.518600, Cost:     0.1534\n",
      "Epoch 23, CIFAR-10 Batch 1:  Accuracy: 0.549200, Cost:     0.1165\n",
      "Epoch 24, CIFAR-10 Batch 1:  Accuracy: 0.531800, Cost:     0.0932\n",
      "Epoch 25, CIFAR-10 Batch 1:  Accuracy: 0.514800, Cost:     0.1288\n",
      "Epoch 26, CIFAR-10 Batch 1:  Accuracy: 0.543000, Cost:     0.0454\n",
      "Epoch 27, CIFAR-10 Batch 1:  Accuracy: 0.532600, Cost:     0.0467\n",
      "Epoch 28, CIFAR-10 Batch 1:  Accuracy: 0.536800, Cost:     0.0346\n"
     ]
    }
   ],
   "source": [
    "\"\"\"\n",
    "DON'T MODIFY ANYTHING IN THIS CELL\n",
    "\"\"\"\n",
    "print('Checking the Training on a Single Batch...')\n",
    "with tf.Session() as sess:\n",
    "    # Initializing the variables\n",
    "    sess.run(tf.global_variables_initializer())\n",
    "    \n",
    "    # Training cycle\n",
    "    for epoch in range(epochs):\n",
    "        batch_i = 1\n",
    "        for batch_features, batch_labels in helper.load_preprocess_training_batch(batch_i, batch_size):\n",
    "            train_neural_network(sess, optimizer, keep_probability, batch_features, batch_labels)\n",
    "        print('Epoch {:>2}, CIFAR-10 Batch {}:  '.format(epoch + 1, batch_i), end='')\n",
    "        print_stats(sess, batch_features, batch_labels, cost, accuracy)"
   ]
  },
  {
   "cell_type": "markdown",
   "metadata": {
    "deletable": true,
    "editable": true
   },
   "source": [
    "### Fully Train the Model\n",
    "Now that you got a good accuracy with a single CIFAR-10 batch, try it with all five batches."
   ]
  },
  {
   "cell_type": "code",
   "execution_count": 20,
   "metadata": {
    "collapsed": false,
    "deletable": true,
    "editable": true
   },
   "outputs": [
    {
     "name": "stdout",
     "output_type": "stream",
     "text": [
      "Training...\n",
      "Epoch  1, CIFAR-10 Batch 1:  Accuracy: 0.206400, Cost:     2.1283\n",
      "Epoch  1, CIFAR-10 Batch 2:  Accuracy: 0.200400, Cost:     1.9083\n",
      "Epoch  1, CIFAR-10 Batch 3:  Accuracy: 0.345800, Cost:     1.4658\n",
      "Epoch  1, CIFAR-10 Batch 4:  Accuracy: 0.368000, Cost:     1.7754\n",
      "Epoch  1, CIFAR-10 Batch 5:  Accuracy: 0.414400, Cost:     1.5574\n",
      "Epoch  2, CIFAR-10 Batch 1:  Accuracy: 0.434400, Cost:     1.7613\n",
      "Epoch  2, CIFAR-10 Batch 2:  Accuracy: 0.451000, Cost:     1.4991\n",
      "Epoch  2, CIFAR-10 Batch 3:  Accuracy: 0.499400, Cost:     1.2293\n",
      "Epoch  2, CIFAR-10 Batch 4:  Accuracy: 0.511600, Cost:     1.4195\n",
      "Epoch  2, CIFAR-10 Batch 5:  Accuracy: 0.546600, Cost:     1.1652\n",
      "Epoch  3, CIFAR-10 Batch 1:  Accuracy: 0.536200, Cost:     1.3734\n",
      "Epoch  3, CIFAR-10 Batch 2:  Accuracy: 0.562600, Cost:     1.1796\n",
      "Epoch  3, CIFAR-10 Batch 3:  Accuracy: 0.559200, Cost:     0.9155\n",
      "Epoch  3, CIFAR-10 Batch 4:  Accuracy: 0.563800, Cost:     1.1060\n",
      "Epoch  3, CIFAR-10 Batch 5:  Accuracy: 0.593800, Cost:     0.9800\n",
      "Epoch  4, CIFAR-10 Batch 1:  Accuracy: 0.606600, Cost:     1.1130\n",
      "Epoch  4, CIFAR-10 Batch 2:  Accuracy: 0.590800, Cost:     0.9234\n",
      "Epoch  4, CIFAR-10 Batch 3:  Accuracy: 0.614400, Cost:     0.8265\n",
      "Epoch  4, CIFAR-10 Batch 4:  Accuracy: 0.611000, Cost:     0.8195\n",
      "Epoch  4, CIFAR-10 Batch 5:  Accuracy: 0.633000, Cost:     0.8182\n",
      "Epoch  5, CIFAR-10 Batch 1:  Accuracy: 0.637000, Cost:     0.8547\n",
      "Epoch  5, CIFAR-10 Batch 2:  Accuracy: 0.653200, Cost:     0.7391\n",
      "Epoch  5, CIFAR-10 Batch 3:  Accuracy: 0.641400, Cost:     0.5678\n",
      "Epoch  5, CIFAR-10 Batch 4:  Accuracy: 0.636400, Cost:     0.6643\n",
      "Epoch  5, CIFAR-10 Batch 5:  Accuracy: 0.662400, Cost:     0.7293\n",
      "Epoch  6, CIFAR-10 Batch 1:  Accuracy: 0.674800, Cost:     0.7610\n",
      "Epoch  6, CIFAR-10 Batch 2:  Accuracy: 0.657400, Cost:     0.6407\n",
      "Epoch  6, CIFAR-10 Batch 3:  Accuracy: 0.659800, Cost:     0.3646\n",
      "Epoch  6, CIFAR-10 Batch 4:  Accuracy: 0.644200, Cost:     0.5465\n",
      "Epoch  6, CIFAR-10 Batch 5:  Accuracy: 0.669000, Cost:     0.6751\n",
      "Epoch  7, CIFAR-10 Batch 1:  Accuracy: 0.676200, Cost:     0.6264\n",
      "Epoch  7, CIFAR-10 Batch 2:  Accuracy: 0.673800, Cost:     0.5599\n",
      "Epoch  7, CIFAR-10 Batch 3:  Accuracy: 0.671400, Cost:     0.2735\n",
      "Epoch  7, CIFAR-10 Batch 4:  Accuracy: 0.663400, Cost:     0.3628\n",
      "Epoch  7, CIFAR-10 Batch 5:  Accuracy: 0.676200, Cost:     0.5571\n",
      "Epoch  8, CIFAR-10 Batch 1:  Accuracy: 0.684800, Cost:     0.4823\n",
      "Epoch  8, CIFAR-10 Batch 2:  Accuracy: 0.681800, Cost:     0.3168\n",
      "Epoch  8, CIFAR-10 Batch 3:  Accuracy: 0.645800, Cost:     0.3059\n",
      "Epoch  8, CIFAR-10 Batch 4:  Accuracy: 0.655000, Cost:     0.3138\n",
      "Epoch  8, CIFAR-10 Batch 5:  Accuracy: 0.674600, Cost:     0.5081\n",
      "Epoch  9, CIFAR-10 Batch 1:  Accuracy: 0.676400, Cost:     0.3726\n",
      "Epoch  9, CIFAR-10 Batch 2:  Accuracy: 0.684800, Cost:     0.3165\n",
      "Epoch  9, CIFAR-10 Batch 3:  Accuracy: 0.681000, Cost:     0.3285\n",
      "Epoch  9, CIFAR-10 Batch 4:  Accuracy: 0.672000, Cost:     0.2365\n",
      "Epoch  9, CIFAR-10 Batch 5:  Accuracy: 0.661600, Cost:     0.3026\n",
      "Epoch 10, CIFAR-10 Batch 1:  Accuracy: 0.683600, Cost:     0.2644\n",
      "Epoch 10, CIFAR-10 Batch 2:  Accuracy: 0.676000, Cost:     0.2202\n",
      "Epoch 10, CIFAR-10 Batch 3:  Accuracy: 0.670000, Cost:     0.2512\n",
      "Epoch 10, CIFAR-10 Batch 4:  Accuracy: 0.675800, Cost:     0.2801\n",
      "Epoch 10, CIFAR-10 Batch 5:  Accuracy: 0.656400, Cost:     0.3022\n",
      "Epoch 11, CIFAR-10 Batch 1:  Accuracy: 0.679600, Cost:     0.2552\n",
      "Epoch 11, CIFAR-10 Batch 2:  Accuracy: 0.666800, Cost:     0.2550\n",
      "Epoch 11, CIFAR-10 Batch 3:  Accuracy: 0.661200, Cost:     0.1639\n",
      "Epoch 11, CIFAR-10 Batch 4:  Accuracy: 0.668200, Cost:     0.2055\n",
      "Epoch 11, CIFAR-10 Batch 5:  Accuracy: 0.661600, Cost:     0.1911\n",
      "Epoch 12, CIFAR-10 Batch 1:  Accuracy: 0.677200, Cost:     0.1814\n",
      "Epoch 12, CIFAR-10 Batch 2:  Accuracy: 0.671200, Cost:     0.1977\n",
      "Epoch 12, CIFAR-10 Batch 3:  Accuracy: 0.680400, Cost:     0.0945\n",
      "Epoch 12, CIFAR-10 Batch 4:  Accuracy: 0.688600, Cost:     0.1185\n",
      "Epoch 12, CIFAR-10 Batch 5:  Accuracy: 0.664200, Cost:     0.2086\n",
      "Epoch 13, CIFAR-10 Batch 1:  Accuracy: 0.684000, Cost:     0.2315\n",
      "Epoch 13, CIFAR-10 Batch 2:  Accuracy: 0.679600, Cost:     0.0937\n",
      "Epoch 13, CIFAR-10 Batch 3:  Accuracy: 0.677800, Cost:     0.0764\n",
      "Epoch 13, CIFAR-10 Batch 4:  Accuracy: 0.664600, Cost:     0.1719\n",
      "Epoch 13, CIFAR-10 Batch 5:  Accuracy: 0.686400, Cost:     0.1215\n",
      "Epoch 14, CIFAR-10 Batch 1:  Accuracy: 0.682600, Cost:     0.0445\n",
      "Epoch 14, CIFAR-10 Batch 2:  Accuracy: 0.676000, Cost:     0.3058\n",
      "Epoch 14, CIFAR-10 Batch 3:  Accuracy: 0.665400, Cost:     0.1000\n",
      "Epoch 14, CIFAR-10 Batch 4:  Accuracy: 0.665400, Cost:     0.1213\n",
      "Epoch 14, CIFAR-10 Batch 5:  Accuracy: 0.674800, Cost:     0.0423\n",
      "Epoch 15, CIFAR-10 Batch 1:  Accuracy: 0.673400, Cost:     0.0508\n",
      "Epoch 15, CIFAR-10 Batch 2:  Accuracy: 0.659800, Cost:     0.0353\n",
      "Epoch 15, CIFAR-10 Batch 3:  Accuracy: 0.678600, Cost:     0.0847\n",
      "Epoch 15, CIFAR-10 Batch 4:  Accuracy: 0.677400, Cost:     0.0494\n",
      "Epoch 15, CIFAR-10 Batch 5:  Accuracy: 0.679800, Cost:     0.0617\n",
      "Epoch 16, CIFAR-10 Batch 1:  Accuracy: 0.675200, Cost:     0.0418\n",
      "Epoch 16, CIFAR-10 Batch 2:  Accuracy: 0.660400, Cost:     0.0364\n",
      "Epoch 16, CIFAR-10 Batch 3:  Accuracy: 0.673800, Cost:     0.0561\n",
      "Epoch 16, CIFAR-10 Batch 4:  Accuracy: 0.673800, Cost:     0.0501\n",
      "Epoch 16, CIFAR-10 Batch 5:  Accuracy: 0.675000, Cost:     0.0140\n",
      "Epoch 17, CIFAR-10 Batch 1:  Accuracy: 0.678000, Cost:     0.0126\n",
      "Epoch 17, CIFAR-10 Batch 2:  Accuracy: 0.678600, Cost:     0.0798\n",
      "Epoch 17, CIFAR-10 Batch 3:  Accuracy: 0.666000, Cost:     0.0379\n",
      "Epoch 17, CIFAR-10 Batch 4:  Accuracy: 0.671800, Cost:     0.0731\n",
      "Epoch 17, CIFAR-10 Batch 5:  Accuracy: 0.679000, Cost:     0.0222\n",
      "Epoch 18, CIFAR-10 Batch 1:  Accuracy: 0.678800, Cost:     0.0169\n",
      "Epoch 18, CIFAR-10 Batch 2:  Accuracy: 0.676800, Cost:     0.0440\n",
      "Epoch 18, CIFAR-10 Batch 3:  Accuracy: 0.679200, Cost:     0.0123\n",
      "Epoch 18, CIFAR-10 Batch 4:  Accuracy: 0.674400, Cost:     0.0243\n",
      "Epoch 18, CIFAR-10 Batch 5:  Accuracy: 0.678200, Cost:     0.0114\n",
      "Epoch 19, CIFAR-10 Batch 1:  Accuracy: 0.683600, Cost:     0.0097\n",
      "Epoch 19, CIFAR-10 Batch 2:  Accuracy: 0.682000, Cost:     0.0341\n",
      "Epoch 19, CIFAR-10 Batch 3:  Accuracy: 0.688600, Cost:     0.0103\n",
      "Epoch 19, CIFAR-10 Batch 4:  Accuracy: 0.682600, Cost:     0.0344\n",
      "Epoch 19, CIFAR-10 Batch 5:  Accuracy: 0.666200, Cost:     0.0047\n",
      "Epoch 20, CIFAR-10 Batch 1:  Accuracy: 0.681200, Cost:     0.0118\n",
      "Epoch 20, CIFAR-10 Batch 2:  Accuracy: 0.684600, Cost:     0.1118\n",
      "Epoch 20, CIFAR-10 Batch 3:  Accuracy: 0.683200, Cost:     0.0190\n",
      "Epoch 20, CIFAR-10 Batch 4:  Accuracy: 0.669200, Cost:     0.0686\n",
      "Epoch 20, CIFAR-10 Batch 5:  Accuracy: 0.665600, Cost:     0.0083\n",
      "Epoch 21, CIFAR-10 Batch 1:  Accuracy: 0.678200, Cost:     0.0065\n",
      "Epoch 21, CIFAR-10 Batch 2:  Accuracy: 0.674200, Cost:     0.0386\n",
      "Epoch 21, CIFAR-10 Batch 3:  Accuracy: 0.681800, Cost:     0.0031\n",
      "Epoch 21, CIFAR-10 Batch 4:  Accuracy: 0.679400, Cost:     0.0014\n",
      "Epoch 21, CIFAR-10 Batch 5:  Accuracy: 0.674400, Cost:     0.0058\n",
      "Epoch 22, CIFAR-10 Batch 1:  Accuracy: 0.669600, Cost:     0.0040\n",
      "Epoch 22, CIFAR-10 Batch 2:  Accuracy: 0.683600, Cost:     0.0220\n",
      "Epoch 22, CIFAR-10 Batch 3:  Accuracy: 0.680400, Cost:     0.0131\n",
      "Epoch 22, CIFAR-10 Batch 4:  Accuracy: 0.677000, Cost:     0.0063\n",
      "Epoch 22, CIFAR-10 Batch 5:  Accuracy: 0.688000, Cost:     0.0438\n",
      "Epoch 23, CIFAR-10 Batch 1:  Accuracy: 0.683800, Cost:     0.0013\n",
      "Epoch 23, CIFAR-10 Batch 2:  Accuracy: 0.684200, Cost:     0.0035\n",
      "Epoch 23, CIFAR-10 Batch 3:  Accuracy: 0.682400, Cost:     0.0222\n",
      "Epoch 23, CIFAR-10 Batch 4:  Accuracy: 0.684000, Cost:     0.0055\n",
      "Epoch 23, CIFAR-10 Batch 5:  Accuracy: 0.685800, Cost:     0.0017\n",
      "Epoch 24, CIFAR-10 Batch 1:  Accuracy: 0.678600, Cost:     0.0627\n",
      "Epoch 24, CIFAR-10 Batch 2:  Accuracy: 0.684000, Cost:     0.0033\n",
      "Epoch 24, CIFAR-10 Batch 3:  Accuracy: 0.684800, Cost:     0.0037\n",
      "Epoch 24, CIFAR-10 Batch 4:  Accuracy: 0.687400, Cost:     0.0021\n",
      "Epoch 24, CIFAR-10 Batch 5:  Accuracy: 0.687200, Cost:     0.0199\n",
      "Epoch 25, CIFAR-10 Batch 1:  Accuracy: 0.684200, Cost:     0.0206\n",
      "Epoch 25, CIFAR-10 Batch 2:  Accuracy: 0.687600, Cost:     0.0146\n",
      "Epoch 25, CIFAR-10 Batch 3:  Accuracy: 0.690400, Cost:     0.0079\n",
      "Epoch 25, CIFAR-10 Batch 4:  Accuracy: 0.679000, Cost:     0.0067\n",
      "Epoch 25, CIFAR-10 Batch 5:  Accuracy: 0.688000, Cost:     0.0026\n",
      "Epoch 26, CIFAR-10 Batch 1:  Accuracy: 0.679400, Cost:     0.0049\n",
      "Epoch 26, CIFAR-10 Batch 2:  Accuracy: 0.672400, Cost:     0.0032\n",
      "Epoch 26, CIFAR-10 Batch 3:  Accuracy: 0.675200, Cost:     0.0263\n",
      "Epoch 26, CIFAR-10 Batch 4:  Accuracy: 0.678000, Cost:     0.0348\n",
      "Epoch 26, CIFAR-10 Batch 5:  Accuracy: 0.700800, Cost:     0.0039\n",
      "Epoch 27, CIFAR-10 Batch 1:  Accuracy: 0.666400, Cost:     0.0023\n",
      "Epoch 27, CIFAR-10 Batch 2:  Accuracy: 0.685600, Cost:     0.0015\n",
      "Epoch 27, CIFAR-10 Batch 3:  Accuracy: 0.688200, Cost:     0.0017\n",
      "Epoch 27, CIFAR-10 Batch 4:  Accuracy: 0.677800, Cost:     0.0120\n",
      "Epoch 27, CIFAR-10 Batch 5:  Accuracy: 0.690400, Cost:     0.0025\n",
      "Epoch 28, CIFAR-10 Batch 1:  Accuracy: 0.691400, Cost:     0.0069\n",
      "Epoch 28, CIFAR-10 Batch 2:  Accuracy: 0.668800, Cost:     0.0131\n",
      "Epoch 28, CIFAR-10 Batch 3:  Accuracy: 0.689800, Cost:     0.0036\n",
      "Epoch 28, CIFAR-10 Batch 4:  Accuracy: 0.681600, Cost:     0.0007\n",
      "Epoch 28, CIFAR-10 Batch 5:  Accuracy: 0.680800, Cost:     0.0066\n"
     ]
    }
   ],
   "source": [
    "\"\"\"\n",
    "DON'T MODIFY ANYTHING IN THIS CELL\n",
    "\"\"\"\n",
    "save_model_path = './image_classification'\n",
    "\n",
    "print('Training...')\n",
    "with tf.Session() as sess:\n",
    "    # Initializing the variables\n",
    "    sess.run(tf.global_variables_initializer())\n",
    "    \n",
    "    # Training cycle\n",
    "    for epoch in range(epochs):\n",
    "        # Loop over all batches\n",
    "        n_batches = 5\n",
    "        for batch_i in range(1, n_batches + 1):\n",
    "            for batch_features, batch_labels in helper.load_preprocess_training_batch(batch_i, batch_size):\n",
    "                train_neural_network(sess, optimizer, keep_probability, batch_features, batch_labels)\n",
    "            print('Epoch {:>2}, CIFAR-10 Batch {}:  '.format(epoch + 1, batch_i), end='')\n",
    "            print_stats(sess, batch_features, batch_labels, cost, accuracy)\n",
    "            \n",
    "    # Save Model\n",
    "    saver = tf.train.Saver()\n",
    "    save_path = saver.save(sess, save_model_path)"
   ]
  },
  {
   "cell_type": "markdown",
   "metadata": {
    "deletable": true,
    "editable": true
   },
   "source": [
    "# Checkpoint\n",
    "The model has been saved to disk.\n",
    "## Test Model\n",
    "Test your model against the test dataset.  This will be your final accuracy. You should have an accuracy greater than 50%. If you don't, keep tweaking the model architecture and parameters."
   ]
  },
  {
   "cell_type": "code",
   "execution_count": 21,
   "metadata": {
    "collapsed": false,
    "deletable": true,
    "editable": true
   },
   "outputs": [
    {
     "name": "stdout",
     "output_type": "stream",
     "text": [
      "Testing Accuracy: 0.6787420382165605\n",
      "\n"
     ]
    },
    {
     "data": {
      "image/png": "[encoded data removed]",
      "text/plain": [
       "<matplotlib.figure.Figure at 0x7fad29d52f28>"
      ]
     },
     "metadata": {
      "image/png": {
       "height": 319,
       "width": 355
      }
     },
     "output_type": "display_data"
    }
   ],
   "source": [
    "\"\"\"\n",
    "DON'T MODIFY ANYTHING IN THIS CELL\n",
    "\"\"\"\n",
    "%matplotlib inline\n",
    "%config InlineBackend.figure_format = 'retina'\n",
    "\n",
    "import tensorflow as tf\n",
    "import pickle\n",
    "import helper\n",
    "import random\n",
    "\n",
    "# Set batch size if not already set\n",
    "try:\n",
    "    if batch_size:\n",
    "        pass\n",
    "except NameError:\n",
    "    batch_size = 64\n",
    "\n",
    "save_model_path = './image_classification'\n",
    "n_samples = 4\n",
    "top_n_predictions = 3\n",
    "\n",
    "def test_model():\n",
    "    \"\"\"\n",
    "    Test the saved model against the test dataset\n",
    "    \"\"\"\n",
    "\n",
    "    test_features, test_labels = pickle.load(open('preprocess_test.p', mode='rb'))\n",
    "    loaded_graph = tf.Graph()\n",
    "\n",
    "    with tf.Session(graph=loaded_graph) as sess:\n",
    "        # Load model\n",
    "        loader = tf.train.import_meta_graph(save_model_path + '.meta')\n",
    "        loader.restore(sess, save_model_path)\n",
    "\n",
    "        # Get Tensors from loaded model\n",
    "        loaded_x = loaded_graph.get_tensor_by_name('x:0')\n",
    "        loaded_y = loaded_graph.get_tensor_by_name('y:0')\n",
    "        loaded_keep_prob = loaded_graph.get_tensor_by_name('keep_prob:0')\n",
    "        loaded_logits = loaded_graph.get_tensor_by_name('logits:0')\n",
    "        loaded_acc = loaded_graph.get_tensor_by_name('accuracy:0')\n",
    "        \n",
    "        # Get accuracy in batches for memory limitations\n",
    "        test_batch_acc_total = 0\n",
    "        test_batch_count = 0\n",
    "        \n",
    "        for test_feature_batch, test_label_batch in helper.batch_features_labels(test_features, test_labels, batch_size):\n",
    "            test_batch_acc_total += sess.run(\n",
    "                loaded_acc,\n",
    "                feed_dict={loaded_x: test_feature_batch, loaded_y: test_label_batch, loaded_keep_prob: 1.0})\n",
    "            test_batch_count += 1\n",
    "\n",
    "        print('Testing Accuracy: {}\\n'.format(test_batch_acc_total/test_batch_count))\n",
    "\n",
    "        # Print Random Samples\n",
    "        random_test_features, random_test_labels = tuple(zip(*random.sample(list(zip(test_features, test_labels)), n_samples)))\n",
    "        random_test_predictions = sess.run(\n",
    "            tf.nn.top_k(tf.nn.softmax(loaded_logits), top_n_predictions),\n",
    "            feed_dict={loaded_x: random_test_features, loaded_y: random_test_labels, loaded_keep_prob: 1.0})\n",
    "        helper.display_image_predictions(random_test_features, random_test_labels, random_test_predictions)\n",
    "\n",
    "\n",
    "test_model()"
   ]
  },
  {
   "cell_type": "markdown",
   "metadata": {
    "deletable": true,
    "editable": true
   },
   "source": [
    "## Why 50-80% Accuracy?\n",
    "You might be wondering why you can't get an accuracy any higher. First things first, 50% isn't bad for a simple CNN.  Pure guessing would get you 10% accuracy. However, you might notice people are getting scores [well above 80%](http://rodrigob.github.io/are_we_there_yet/build/classification_datasets_results.html#43494641522d3130).  That's because we haven't taught you all there is to know about neural networks. We still need to cover a few more techniques.\n",
    "## Submitting This Project\n",
    "When submitting this project, make sure to run all the cells before saving the notebook.  Save the notebook file as \"dlnd_image_classification.ipynb\" and save it as a HTML file under \"File\" -> \"Download as\".  Include the \"helper.py\" and \"problem_unittests.py\" files in your submission."
   ]
  }
 ],
 "metadata": {
  "kernelspec": {
   "display_name": "Python 3",
   "language": "python",
   "name": "python3"
  },
  "language_info": {
   "codemirror_mode": {
    "name": "ipython",
    "version": 3
   },
   "file_extension": ".py",
   "mimetype": "text/x-python",
   "name": "python",
   "nbconvert_exporter": "python",
   "pygments_lexer": "ipython3",
   "version": "3.5.2"
  },
  "widgets": {
   "state": {},
   "version": "1.1.2"
  }
 },
 "nbformat": 4,
 "nbformat_minor": 1
}
